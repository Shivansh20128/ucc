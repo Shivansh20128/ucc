{
 "cells": [
  {
   "cell_type": "markdown",
   "metadata": {},
   "source": [
    "# UCC benchmarks\n",
    "In this notebook, we benchmark the performance of Unitary Fund's UCC compiler against qiskit, PyTKET and Cirq across a range of benchmarks for circuits of (100 qubits) each unless otherwise marked: \n",
    "\n",
    "- Quantum Approximate Optimization Algorithm (QAOA)\n",
    "- Quantum volume  (QV) calculation\n",
    "- Quantum Fourier transform (QFT)\n",
    "- Square Heisenberg model Trotterized Hamiltonian simulation\n",
    "- Quantum computational neural network (QCNN)\n",
    "- PREPARE & SELECT on a 25 qubit GHZ state\n",
    "\n",
    "#### Circuit definitions\n",
    "For the **QAOA, QFT, Square Heisenberg,** and **QV** circuits, we copy the corresponding [OpenQASM 2 code](https://github.com/qiskit/benchpress/tree/main/benchpress/qasm) from qiskit's benchpress library. For the **QCNN** and **Prepare & Select** circuits, we generate QASM 2 code using our own implementations in qiskit and cirq, decomposed into the restricted basis set:\n",
    "\n",
    " `['rz', 'rx', 'ry', 'h', 'cx']`."
   ]
  },
  {
   "cell_type": "code",
   "execution_count": 1,
   "metadata": {},
   "outputs": [
    {
     "data": {
      "text/plain": [
       "['./circuits/qasm2/benchpress/qaoa_barabasi_albert_N100_3reps_basis_rz_rx_ry_cx.qasm',\n",
       " './circuits/qasm2/benchpress/qv_N100_12345_basis_rz_rx_ry_cx.qasm',\n",
       " './circuits/qasm2/benchpress/qft_N100_basis_rz_rx_ry_cx.qasm',\n",
       " './circuits/qasm2/benchpress/square_heisenberg_N100_basis_rz_rx_ry_cx.qasm',\n",
       " './circuits/qasm2/ucc/prep_select_N25_ghz_basis_rz_rx_ry_h_cx.qasm',\n",
       " './circuits/qasm2/ucc/qcnn_N100_7layers_basis_rz_rx_ry_h_cx.qasm',\n",
       " './circuits/qasm2/ucc/random_Clifford_N100_basis_rz_rx_ry_h_cx.qasm']"
      ]
     },
     "execution_count": 1,
     "metadata": {},
     "output_type": "execute_result"
    }
   ],
   "source": [
    "folder = \"./circuits/qasm2/\"\n",
    "\n",
    "qasm_files = [folder + file for file in [\n",
    "    \"benchpress/qaoa_barabasi_albert_N100_3reps_basis_rz_rx_ry_cx.qasm\",\n",
    "    \"benchpress/qv_N100_12345_basis_rz_rx_ry_cx.qasm\",\n",
    "    \"benchpress/qft_N100_basis_rz_rx_ry_cx.qasm\",\n",
    "    \"benchpress/square_heisenberg_N100_basis_rz_rx_ry_cx.qasm\",\n",
    "    \"ucc/prep_select_N25_ghz_basis_rz_rx_ry_h_cx.qasm\",\n",
    "    \"ucc/qcnn_N100_7layers_basis_rz_rx_ry_h_cx.qasm\",\n",
    "    \"ucc/random_Clifford_N100_basis_rz_rx_ry_h_cx.qasm\",\n",
    "    ]]\n",
    "\n",
    "# qasm_files.append(\"./circuits/qasm3/ucc/VQE_ansatz_N100_25layers.qasm\")\n",
    "qasm_files"
   ]
  },
  {
   "cell_type": "markdown",
   "metadata": {},
   "source": [
    "\n",
    "#### Transpilation\n",
    "For all benchmarks, we then use qbraid's [transpile](https://docs.qbraid.com/sdk/user-guide/transpiler) function to translate into the native format each SDK's compiler. \n",
    "\n",
    "**Note**: `qbraid.transpile` does NOT perform any circuit optimization; it only translates between circuit representations. \n",
    "\n",
    "#### Compilation\n",
    "We then run a compiler pass on the circuit for each SDK, including decomposition into a target basis set to maintain parity in counting 2-qubit gates (shown below). Since there is not a default set of compiler passes for `Cirq` or `PyTKET`, we chose a subset of those available.  We invite anyone more familiar with these compiler libraries to suggest more optimal passes. \n",
    "\n",
    "However, it is worth pointing out that a major goal of UCC is to simplify the process of compilation for quantum developers and provide a \"good default\" set of passes that is on par with other compilers, without the user needing to specify any additional parameters."
   ]
  },
  {
   "cell_type": "code",
   "execution_count": 2,
   "metadata": {},
   "outputs": [],
   "source": [
    "from qiskit import transpile as qiskit_transpile\n",
    "\n",
    "\n",
    "def qiskit_compile(qiskit_circuit):\n",
    "    \"\"\"Compile given qiskit.QuantumCircuit object and return the compiled circuit and total number of raw and compiled 2 qubit gates\"\"\"\n",
    "    compiled_circuit = qiskit_transpile(qiskit_circuit, optimization_level=3, basis_gates=['rz', 'rx', 'ry', 'h', 'cx'])\n",
    "    \n",
    "    return compiled_circuit"
   ]
  },
  {
   "cell_type": "code",
   "execution_count": 3,
   "metadata": {},
   "outputs": [],
   "source": [
    "from cirq.transformers import optimize_for_target_gateset, CZTargetGateset\n",
    "\n",
    "\n",
    "def cirq_compile(cirq_circuit):\n",
    "    \"\"\"Compile given cirq.Circuit object and return the compiled circuit and total number of raw and compiled 2 qubit gates\"\"\"\n",
    "    # Compiler passes\n",
    "    compiled_circuit = optimize_for_target_gateset(\n",
    "    cirq_circuit, \n",
    "    gateset=CZTargetGateset() \n",
    "    )\n",
    "\n",
    "    return compiled_circuit"
   ]
  },
  {
   "cell_type": "code",
   "execution_count": 4,
   "metadata": {},
   "outputs": [],
   "source": [
    "# Compile using TKET\n",
    "from pytket.circuit import OpType\n",
    "from pytket.predicates import CompilationUnit\n",
    "from pytket.passes import SequencePass, DecomposeBoxes, auto_rebase_pass, SimplifyInitial, RemoveRedundancies, FullPeepholeOptimise\n",
    "from pytket.transform import Transform\n",
    " \n",
    "def pytket_compile(pytket_circuit):\n",
    "    \"\"\"Compile given pytket.Circuit object and return the compiled circuit and total number of raw and compiled 2 qubit gates\"\"\"\n",
    "    compilation_unit = CompilationUnit(pytket_circuit)\n",
    "\n",
    "    seqpass = SequencePass([\n",
    "        # Remove identity and redundant gates\n",
    "        SimplifyInitial(),   \n",
    "        # Decompose multi-qubit gates into CNOTs and single-qubit gates\n",
    "        DecomposeBoxes(),\n",
    "        # Rebase the circuit to a target gate set: {Rx, Ry, Rz, CX, H}.\n",
    "        RemoveRedundancies(),  # Remove any remaining redundant gates\n",
    "        auto_rebase_pass(\n",
    "            {OpType.Rx, OpType.Ry, OpType.Rz, OpType.CX, OpType.H}),  \n",
    "        # FullPeepholeOptimise(), # Very slow, extensive optimization\n",
    "    ])\n",
    "    \n",
    "    seqpass.apply(compilation_unit) # In-place\n",
    "\n",
    "    compiled_circuit = compilation_unit.circuit\n",
    "\n",
    "    return compiled_circuit"
   ]
  },
  {
   "cell_type": "code",
   "execution_count": 5,
   "metadata": {},
   "outputs": [],
   "source": [
    "from ucc import compile \n",
    "\n",
    "def ucc_compile(circuit):\n",
    "    \"\"\"Compile given qiskit.QuantumCircuit and return the compiled circuit and total number of raw and compiled 2 qubit gates\"\"\"\n",
    "    compiled_circuit = compile(circuit)\n",
    "\n",
    "    return compiled_circuit"
   ]
  },
  {
   "cell_type": "code",
   "execution_count": 6,
   "metadata": {},
   "outputs": [],
   "source": [
    "from qbraid.transpiler import transpile as translate\n",
    "\n",
    "def get_native_rep(circuit, compiler_alias):\n",
    "    \"\"\"Converts the given circuit to the native representation of the given compiler using qBraid.transpile.\n",
    "    \"\"\"\n",
    "    if alias == 'ucc':\n",
    "        # Qiskit used for UCC to get raw gate counts\n",
    "        native_circuit = translate(qasm_string, 'qiskit')\n",
    "    else:\n",
    "        native_circuit = translate(qasm_string, alias)\n",
    "\n",
    "    return native_circuit"
   ]
  },
  {
   "cell_type": "code",
   "execution_count": 7,
   "metadata": {},
   "outputs": [],
   "source": [
    "from utils import count_multi_qubit_gates_cirq, count_multi_qubit_gates_pytket, count_multi_qubit_gates_qiskit\n",
    "\n",
    "def count_multi_qubit_gates(circuit, compiler_alias):\n",
    "    match compiler_alias:\n",
    "        case 'ucc':\n",
    "            result = count_multi_qubit_gates_qiskit(circuit)\n",
    "        case 'qiskit':\n",
    "            result = count_multi_qubit_gates_qiskit(circuit)\n",
    "        case 'cirq':\n",
    "            result = count_multi_qubit_gates_cirq(circuit)\n",
    "        case 'pytket':\n",
    "            result = count_multi_qubit_gates_pytket(circuit)\n",
    "        case _:\n",
    "            result = \"Unknown compiler alias.\"\n",
    "\n",
    "    return result"
   ]
  },
  {
   "cell_type": "code",
   "execution_count": 8,
   "metadata": {},
   "outputs": [],
   "source": [
    "from time import time\n",
    "import ucc\n",
    "import cirq\n",
    "import pytket\n",
    "import qiskit\n",
    "\n",
    "def log_performance(compiler_function, raw_circuit, compiler_alias):\n",
    "    # Should also log the compiler software version\n",
    "    log_entry = {\"compiler\": alias}\n",
    "    # log_entry[\"compiler_version\"] = eval(\n",
    "    #     alias + \".__version__\")\n",
    "    log_entry[\"raw_circuit\"] = raw_circuit\n",
    "    log_entry[\"raw_multiq_gates\"] = count_multi_qubit_gates(\n",
    "        raw_circuit, compiler_alias\n",
    "        )\n",
    "\n",
    "    t1 = time()\n",
    "    compiled_circuit = compiler_function(raw_circuit)\n",
    "    t2 = time()\n",
    "    log_entry[\"compile_time\"] = t2 - t1\n",
    "    log_entry[\"compiled_multiq_gates\"] = count_multi_qubit_gates(\n",
    "        compiled_circuit, compiler_alias\n",
    "        )\n",
    "    [print(f\"{key}: {value}\") for key, value in log_entry.items() if key != 'raw_circuit']\n",
    "    print('\\n')\n",
    "    log_entry['compiled_circuit'] = compiled_circuit\n",
    "    \n",
    "    return log_entry"
   ]
  },
  {
   "cell_type": "code",
   "execution_count": 9,
   "metadata": {},
   "outputs": [],
   "source": [
    "results_log = []"
   ]
  },
  {
   "cell_type": "code",
   "execution_count": 10,
   "metadata": {},
   "outputs": [
    {
     "name": "stdout",
     "output_type": "stream",
     "text": [
      "qaoa_barabasi_albert\n",
      "qv\n",
      "qft\n",
      "square_heisenberg\n",
      "prep_select\n",
      "qcnn\n",
      "random_Clifford\n"
     ]
    }
   ],
   "source": [
    "for filename in qasm_files:\n",
    "    print(filename.split('/')[-1].split('_N')[0])"
   ]
  },
  {
   "cell_type": "markdown",
   "metadata": {},
   "source": [
    "### Profile UCC"
   ]
  },
  {
   "cell_type": "code",
   "execution_count": 12,
   "metadata": {},
   "outputs": [
    {
     "name": "stdout",
     "output_type": "stream",
     "text": [
      "./circuits/qasm2/ucc/random_Clifford_N100_basis_rz_rx_ry_h_cx.qasm\n",
      "compiler: ucc\n",
      "raw_multiq_gates: 59690\n",
      "compile_time: 7.427900791168213\n",
      "compiled_multiq_gates: 59412\n",
      "\n",
      "\n",
      "compiler: pytket\n",
      "raw_multiq_gates: 59690\n",
      "compile_time: 3.2397520542144775\n",
      "compiled_multiq_gates: 59648\n",
      "\n",
      "\n",
      "compiler: qiskit\n",
      "raw_multiq_gates: 59690\n",
      "compile_time: 39.570531129837036\n",
      "compiled_multiq_gates: 59400\n",
      "\n",
      "\n",
      "compiler: cirq\n",
      "raw_multiq_gates: 59690\n",
      "compile_time: 421.07116508483887\n",
      "compiled_multiq_gates: 59414\n",
      "\n",
      "\n"
     ]
    }
   ],
   "source": [
    "compiler_specs = [\n",
    "    ('ucc', ucc_compile), \n",
    "    ('pytket', pytket_compile),\n",
    "    ('qiskit', qiskit_compile),\n",
    "    ('cirq', cirq_compile)\n",
    "]\n",
    "for filename in qasm_files[-1:]:\n",
    "    # Open the QASM file and read its content into a string\n",
    "    with open(filename, \"r\") as file:\n",
    "        print(filename)\n",
    "        qasm_string = file.read()\n",
    "        for alias, compile_func in compiler_specs:\n",
    "            native_circuit = get_native_rep(qasm_string, alias)\n",
    "            \n",
    "            log_entry = log_performance(\n",
    "                compile_func, \n",
    "                native_circuit, \n",
    "                compiler_alias=alias\n",
    "                )\n",
    "            log_entry['circuit_name'] = filename.split('/')[-1].split('_N')[0]\n",
    "            \n",
    "            results_log.append(log_entry)\n",
    "            "
   ]
  },
  {
   "cell_type": "code",
   "execution_count": 18,
   "metadata": {},
   "outputs": [
    {
     "data": {
      "text/html": [
       "<div>\n",
       "<style scoped>\n",
       "    .dataframe tbody tr th:only-of-type {\n",
       "        vertical-align: middle;\n",
       "    }\n",
       "\n",
       "    .dataframe tbody tr th {\n",
       "        vertical-align: top;\n",
       "    }\n",
       "\n",
       "    .dataframe thead th {\n",
       "        text-align: right;\n",
       "    }\n",
       "</style>\n",
       "<table border=\"1\" class=\"dataframe\">\n",
       "  <thead>\n",
       "    <tr style=\"text-align: right;\">\n",
       "      <th></th>\n",
       "      <th>circuit_name</th>\n",
       "      <th>compiler</th>\n",
       "      <th>compile_time</th>\n",
       "      <th>raw_multiq_gates</th>\n",
       "      <th>compiled_multiq_gates</th>\n",
       "      <th>gate_reduction_per_s</th>\n",
       "      <th>reduction_factor</th>\n",
       "    </tr>\n",
       "  </thead>\n",
       "  <tbody>\n",
       "    <tr>\n",
       "      <th>0</th>\n",
       "      <td>random_Clifford</td>\n",
       "      <td>cirq</td>\n",
       "      <td>421.071165</td>\n",
       "      <td>59690.0</td>\n",
       "      <td>59414.0</td>\n",
       "      <td>0.002386</td>\n",
       "      <td>1.004645</td>\n",
       "    </tr>\n",
       "    <tr>\n",
       "      <th>1</th>\n",
       "      <td>random_Clifford</td>\n",
       "      <td>pytket</td>\n",
       "      <td>3.239752</td>\n",
       "      <td>59690.0</td>\n",
       "      <td>59648.0</td>\n",
       "      <td>0.308883</td>\n",
       "      <td>1.000704</td>\n",
       "    </tr>\n",
       "    <tr>\n",
       "      <th>2</th>\n",
       "      <td>random_Clifford</td>\n",
       "      <td>qiskit</td>\n",
       "      <td>39.570531</td>\n",
       "      <td>59690.0</td>\n",
       "      <td>59400.0</td>\n",
       "      <td>0.025395</td>\n",
       "      <td>1.004882</td>\n",
       "    </tr>\n",
       "    <tr>\n",
       "      <th>3</th>\n",
       "      <td>random_Clifford</td>\n",
       "      <td>ucc</td>\n",
       "      <td>7.427901</td>\n",
       "      <td>59690.0</td>\n",
       "      <td>59412.0</td>\n",
       "      <td>0.135257</td>\n",
       "      <td>1.004679</td>\n",
       "    </tr>\n",
       "  </tbody>\n",
       "</table>\n",
       "</div>"
      ],
      "text/plain": [
       "      circuit_name compiler  compile_time  raw_multiq_gates  \\\n",
       "0  random_Clifford     cirq    421.071165           59690.0   \n",
       "1  random_Clifford   pytket      3.239752           59690.0   \n",
       "2  random_Clifford   qiskit     39.570531           59690.0   \n",
       "3  random_Clifford      ucc      7.427901           59690.0   \n",
       "\n",
       "   compiled_multiq_gates  gate_reduction_per_s  reduction_factor  \n",
       "0                59414.0              0.002386          1.004645  \n",
       "1                59648.0              0.308883          1.000704  \n",
       "2                59400.0              0.025395          1.004882  \n",
       "3                59412.0              0.135257          1.004679  "
      ]
     },
     "execution_count": 18,
     "metadata": {},
     "output_type": "execute_result"
    }
   ],
   "source": [
    "import pandas as pd\n",
    "\n",
    "# Convert results_log to a DataFrame\n",
    "df = pd.DataFrame(results_log)\n",
    "\n",
    "df['reduction_factor'] = df['raw_multiq_gates'] / df['compiled_multiq_gates'] \n",
    "df['gate_reduction_per_s'] = df['reduction_factor'] / df['compile_time']\n",
    "\n",
    "df_og = pd.DataFrame(results_log)\n",
    "\n",
    "df = df.groupby([\"circuit_name\", \"compiler\"]).agg(\n",
    "    compile_time=(\"compile_time\", \"mean\"),\n",
    "    raw_multiq_gates=(\"raw_multiq_gates\", \"mean\"),\n",
    "    compiled_multiq_gates=(\"compiled_multiq_gates\", \"mean\"),\n",
    "    gate_reduction_per_s=(\"gate_reduction_per_s\", \"mean\"),\n",
    "    reduction_factor=(\"reduction_factor\", \"mean\"),\n",
    ").reset_index()\n",
    "\n",
    "df"
   ]
  },
  {
   "cell_type": "code",
   "execution_count": 14,
   "metadata": {},
   "outputs": [],
   "source": [
    "from datetime import datetime\n",
    "\n",
    "# Generate a timestamp string\n",
    "timestamp = datetime.now().strftime(\"%Y-%m-%d_%H-%M-%S\")\n",
    "\n",
    "# Create a filename with the timestamp\n",
    "filename = f\"results_{timestamp}.csv\"\n",
    "\n",
    "# Save the DataFrame as a CSV file with the timestamped filename\n",
    "df.to_csv(filename, index=False)"
   ]
  },
  {
   "cell_type": "markdown",
   "metadata": {},
   "source": [
    "### Load in existing data (optional)"
   ]
  },
  {
   "cell_type": "code",
   "execution_count": 15,
   "metadata": {},
   "outputs": [],
   "source": [
    "import glob\n",
    "\n",
    "# # Use glob to find all CSV files in the current directory\n",
    "# csv_files = glob.glob(\"*.csv\")\n",
    "\n",
    "# # List to hold DataFrames\n",
    "# dataframes = []\n",
    "\n",
    "# # Loop through each CSV file and read it into a DataFrame\n",
    "# for file in csv_files:\n",
    "#     df = pd.read_csv(file)  # Load the CSV file into a DataFrame\n",
    "#     dataframes.append(df)   # Append the DataFrame to the list\n",
    "\n",
    "# # Concatenate all DataFrames into a single DataFrame\n",
    "# df = pd.concat(dataframes, ignore_index=True)\n"
   ]
  },
  {
   "cell_type": "code",
   "execution_count": 19,
   "metadata": {},
   "outputs": [],
   "source": [
    "# Make circuit names shorter for plotting display:\n",
    "df['circuit_name'] = df['circuit_name'].apply(lambda x: x.split('/')[-1].split('_N')[0])"
   ]
  },
  {
   "cell_type": "code",
   "execution_count": 20,
   "metadata": {},
   "outputs": [
    {
     "data": {
      "image/png": "[encoded data removed]",
      "text/plain": [
       "<Figure size 1800x700 with 2 Axes>"
      ]
     },
     "metadata": {},
     "output_type": "display_data"
    }
   ],
   "source": [
    "import matplotlib.pyplot as plt\n",
    "\n",
    "# Create a 1x2 subplot grid\n",
    "fig, ax = plt.subplots(1, 2, figsize=(18, 7))\n",
    "\n",
    "# Define a colormap and get unique compilers\n",
    "unique_compilers = df[\"compiler\"].unique()\n",
    "colormap = plt.get_cmap(\"Accent_r\", len(unique_compilers))\n",
    "color_map = {compiler: colormap(i) for i, compiler in enumerate(unique_compilers)}\n",
    "label_angle = 75\n",
    "\n",
    "# Define bar width and x-offset for side-by-side plotting\n",
    "bar_width = 0.2  # Adjust width to make bars skinnier\n",
    "x = pd.Series(range(len(df[\"circuit_name\"].unique())))  # X positions for each circuit\n",
    "\n",
    "# Plot 1: Compile Time by Circuit and Compiler\n",
    "for i, key in enumerate(unique_compilers):\n",
    "    # Offset x-positions for each compiler to place bars side-by-side\n",
    "    grp = df[df[\"compiler\"] == key].sort_values(by=[\"circuit_name\", \"compile_time\"])\n",
    "    ax[0].bar(x + i * bar_width, grp[\"compile_time\"], width=bar_width, label=key, color=color_map[key])\n",
    "\n",
    "# Format the first plot\n",
    "ax[0].set_title(\"Compile Time by Circuit and Compiler\")\n",
    "ax[0].set_xlabel(\"Circuit Name\")\n",
    "ax[0].set_ylabel(\"Compile Time (s)\")\n",
    "ax[0].set_yscale(\"log\")  # Set log scale\n",
    "ax[0].set_xticks(x + bar_width * (len(unique_compilers) - 1) / 2)  # Center x-tick labels\n",
    "ax[0].set_xticklabels(df[\"circuit_name\"].unique())\n",
    "ax[0].legend(title=\"Compiler\")\n",
    "ax[0].tick_params(axis='x', rotation=label_angle)  # Rotate x-axis labels\n",
    "\n",
    "# Plot 2: Compiled Gate Counts by Circuit and Compiler \n",
    "for i, key in enumerate(unique_compilers):\n",
    "    # Offset x-positions for each compiler to place bars side-by-side\n",
    "    grp = df[df[\"compiler\"] == key].sort_values(by=[\"circuit_name\", \"compiled_multiq_gates\"])\n",
    "    ax[1].bar(x + i * bar_width, grp[\"compiled_multiq_gates\"], width=bar_width, label=key, color=color_map[key])\n",
    "\n",
    "# Format the second plot\n",
    "ax[1].set_title(\"Compiled Gate Counts by Circuit and Compiler\")\n",
    "ax[1].set_xlabel(\"Circuit Name\")\n",
    "ax[1].set_ylabel(\"Compiled Gate Count\")\n",
    "ax[1].set_yscale(\"log\")  # Set log scale\n",
    "\n",
    "ax[1].set_xticks(x + bar_width * (len(unique_compilers) - 1) / 2)  # Center x-tick labels\n",
    "ax[1].set_xticklabels(df[\"circuit_name\"].unique())\n",
    "ax[1].legend(title=\"Compiler\")\n",
    "ax[1].tick_params(axis='x', rotation=label_angle)  # Rotate x-axis labels\n",
    "\n",
    "\n",
    "# Show the plot\n",
    "# plt.tight_layout()\n",
    "\n",
    "plt.show()\n"
   ]
  },
  {
   "cell_type": "code",
   "execution_count": 21,
   "metadata": {},
   "outputs": [
    {
     "data": {
      "image/png": "[encoded data removed]",
      "text/plain": [
       "<Figure size 1800x700 with 2 Axes>"
      ]
     },
     "metadata": {},
     "output_type": "display_data"
    }
   ],
   "source": [
    "fig, ax = plt.subplots(1, 2, figsize=(18, 7))\n",
    "\n",
    "\n",
    "# Plot 1: Reduction Factor by Circuit and Compiler in ax[0]\n",
    "for i, key in enumerate(unique_compilers):\n",
    "    # Offset x-positions for each compiler to place bars side-by-side\n",
    "    grp = df[df[\"compiler\"] == key].sort_values(by=[\"circuit_name\", \"reduction_factor\"])\n",
    "    ax[0].bar(x + i * bar_width, grp[\"reduction_factor\"], width=bar_width, label=key, color=color_map[key])\n",
    "\n",
    "# Format the first plot (ax[0])\n",
    "ax[0].set_title(\"Gate Reduction Factor (higher is better)\")\n",
    "ax[0].set_xlabel(\"Circuit Name\")\n",
    "ax[0].set_ylabel(\"Reduction Factor\")\n",
    "# Optionally, set log scale if needed:\n",
    "# ax[0].set_yscale(\"log\")\n",
    "\n",
    "# Set x-tick positions and labels for ax[0]\n",
    "ax[0].set_xticks(x + bar_width * (len(unique_compilers) - 1) / 2)  # Center x-tick labels\n",
    "ax[0].set_xticklabels(df[\"circuit_name\"].unique())\n",
    "ax[0].legend(title=\"Compiler\")\n",
    "ax[0].tick_params(axis='x', rotation=label_angle)  # Rotate x-axis labels\n",
    "\n",
    "# Plot 2: Reduction Factor per Second by Circuit and Compiler in ax[1]\n",
    "for i, key in enumerate(unique_compilers):\n",
    "    # Offset x-positions for each compiler to place bars side-by-side\n",
    "    grp = df[df[\"compiler\"] == key].sort_values(by=[\"circuit_name\", \"gate_reduction_per_s\"])\n",
    "    ax[1].bar(x + i * bar_width, grp[\"gate_reduction_per_s\"], width=bar_width, label=key, color=color_map[key])\n",
    "\n",
    "# Format the third plot (ax[1])\n",
    "ax[1].set_title(\"Gate Reduction Factor per second (higher is better)\")\n",
    "ax[1].set_xlabel(\"Circuit Name\")\n",
    "ax[1].set_ylabel(\"Reduction Factor per Second\")\n",
    "# Optionally, set log scale if needed:\n",
    "ax[1].set_yscale(\"log\")\n",
    "\n",
    "\n",
    "# Set x-tick positions and labels for ax[1]\n",
    "ax[1].set_xticks(x + bar_width * (len(unique_compilers) - 1) / 2)  # Center x-tick labels\n",
    "ax[1].set_xticklabels(df[\"circuit_name\"].unique())\n",
    "ax[1].legend(title=\"Compiler\")\n",
    "ax[1].tick_params(axis='x', rotation=label_angle)  # Rotate x-axis labels\n",
    "\n",
    "# Show the plot\n",
    "#plt.tight_layout()\n",
    "\n",
    "plt.show()\n"
   ]
  },
  {
   "cell_type": "code",
   "execution_count": 22,
   "metadata": {},
   "outputs": [
    {
     "name": "stdout",
     "output_type": "stream",
     "text": [
      "  compiler  average_gate_reduction_per_s\n",
      "1   pytket                      0.308883\n",
      "3      ucc                      0.135257\n",
      "2   qiskit                      0.025395\n",
      "0     cirq                      0.002386\n"
     ]
    }
   ],
   "source": [
    "# Average reduction \n",
    "\n",
    "# Group by 'circuit_name' and 'compiler', then calculate the mean of 'gate_reduction_per_s'\n",
    "average_reduction = df.groupby(['compiler', ])['gate_reduction_per_s'].mean().reset_index()\n",
    "\n",
    "# Rename the column for clarity if needed\n",
    "average_reduction.rename(columns={'gate_reduction_per_s': 'average_gate_reduction_per_s'}, inplace=True)\n",
    "\n",
    "# Sort the DataFrame by 'average_gate_reduction_per_s' in descending order\n",
    "average_reduction_sorted = average_reduction.sort_values(by='average_gate_reduction_per_s', ascending=False)\n",
    "\n",
    "# Display the resulting DataFrame\n",
    "print(average_reduction_sorted)"
   ]
  },
  {
   "cell_type": "markdown",
   "metadata": {},
   "source": [
    "***A note on terminology***\n",
    "\n",
    "There is some disagreement in the quantum computing community on the proper usage of the terms \"transpilation\" and \"compilation.\" For instance, Qiskit refers to optimization of the Directed Acyclic Graph (DAG) of a circuit as \"transpilation,\" whereas in qBraid, the 1:1 translation of one circuit representation into another (e.g. a Cirq circuit to a Qiskit circuit; OpenQASM 2 into PyTKET) without optimization is called \"transpilation.\" Cirq on the other hand appears to use the terminology of \"transformers\" to refer to what Qiskit calls transpiler passes, which PyTKET appears to call CompilationUnits. \n",
    "\n",
    "This cornucopia of intersecting definitions does mean that this notebook necessarily mixes terminology. We feel relatively confident we've interpreted these objects and operations accurately across the SDKs we test, but if you find a mistake, please create an issue and let us know!\n",
    "\n",
    "Within the UCC library, we refer to **transpilation** in the same sense as Qiskit: optimizing the DAG of a circuit in a fixed representation. We then use **compilation** to refer to the whole process, including translation from one circuit representation to another (e.g. OpenQASM 2 to Qiskit), plus DAG optimization (e.g. reducing the number of gates), but we also leave it open-ended to include additional stages in the future, like dynamic compilation based on mid-circuit measurements, quantum error mitigation, and even quantum error correction. [probably needs a diagram]"
   ]
  },
  {
   "cell_type": "markdown",
   "metadata": {},
   "source": []
  }
 ],
 "metadata": {
  "kernelspec": {
   "display_name": "bench",
   "language": "python",
   "name": "python3"
  },
  "language_info": {
   "codemirror_mode": {
    "name": "ipython",
    "version": 3
   },
   "file_extension": ".py",
   "mimetype": "text/x-python",
   "name": "python",
   "nbconvert_exporter": "python",
   "pygments_lexer": "ipython3",
   "version": "3.12.4"
  }
 },
 "nbformat": 4,
 "nbformat_minor": 2
}
